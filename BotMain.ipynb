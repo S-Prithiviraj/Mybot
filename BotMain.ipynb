{
 "cells": [
  {
   "cell_type": "code",
   "execution_count": null,
   "id": "80a838fc-8815-4f5b-b244-5640f530e1e7",
   "metadata": {},
   "outputs": [],
   "source": [
    "#importing the necessary libraries\n",
    "import nltk\n",
    "from nltk.stem import WordNetLemmatizer\n",
    "import json\n",
    "import pickle\n",
    "import numpy as np\n",
    "from keras.models import load_model\n",
    "import random"
   ]
  },
  {
   "cell_type": "code",
   "execution_count": null,
   "id": "50d37292-62b0-4499-aa37-9e4fd3cf7a48",
   "metadata": {},
   "outputs": [],
   "source": [
    "# Download NLTK data (wordnet, punkt)\n",
    "nltk.download('punkt')\n",
    "nltk.download('wordnet')"
   ]
  },
  {
   "cell_type": "code",
   "execution_count": null,
   "id": "9c5dbd50-3c97-42b0-b018-9526b067ae88",
   "metadata": {},
   "outputs": [],
   "source": [
    "# Initialize the WordNetLemmatizer\n",
    "lemmatizer = WordNetLemmatizer()"
   ]
  },
  {
   "cell_type": "code",
   "execution_count": null,
   "id": "4a1870cd-f999-493a-bc02-3b63bb6f0103",
   "metadata": {},
   "outputs": [],
   "source": [
    "# Load the trained model\n",
    "model = load_model('chatbot_model.h5')"
   ]
  },
  {
   "cell_type": "code",
   "execution_count": null,
   "id": "17f22169-d7d0-45d9-9f0a-50349f53897e",
   "metadata": {},
   "outputs": [],
   "source": [
    "# Load words and classes\n",
    "words = pickle.load(open('words.pkl', 'rb'))\n",
    "classes = pickle.load(open('classes.pkl', 'rb'))"
   ]
  },
  {
   "cell_type": "code",
   "execution_count": null,
   "id": "f4151866-d3be-4a79-95da-37799bad1a5d",
   "metadata": {},
   "outputs": [],
   "source": [
    "# Load the intents file\n",
    "with open('intents.json') as file:\n",
    "    intents = json.load(file)"
   ]
  },
  {
   "cell_type": "code",
   "execution_count": null,
   "id": "f8eba3ab-ee8f-42ed-9629-c376357066a2",
   "metadata": {},
   "outputs": [],
   "source": [
    "# Function to preprocess input\n",
    "def clean_up_sentence(sentence):\n",
    "    # Tokenize the pattern\n",
    "    sentence_words = nltk.word_tokenize(sentence)\n",
    "    # Lemmatize each word\n",
    "    sentence_words = [lemmatizer.lemmatize(word.lower()) for word in sentence_words]\n",
    "    return sentence_words"
   ]
  },
  {
   "cell_type": "code",
   "execution_count": null,
   "id": "a4105b2f-a9c3-4335-9aec-780259b14992",
   "metadata": {},
   "outputs": [],
   "source": [
    "# Return bag of words array: 0 or 1 for each word in the bag that exists in the sentence\n",
    "def bow(sentence, words, show_details=True):\n",
    "    # Tokenize the pattern\n",
    "    sentence_words = clean_up_sentence(sentence)\n",
    "    # Bag of words\n",
    "    bag = [0] * len(words)\n",
    "    for s in sentence_words:\n",
    "        for i, w in enumerate(words):\n",
    "            if w == s:\n",
    "                bag[i] = 1\n",
    "                if show_details:\n",
    "                    print(f\"Found in bag: {w}\")\n",
    "    return np.array(bag)"
   ]
  },
  {
   "cell_type": "code",
   "execution_count": null,
   "id": "2a080cd6-977f-4748-9bf6-2d1949248509",
   "metadata": {},
   "outputs": [],
   "source": [
    "# Function to predict the class\n",
    "def predict_class(sentence, model):\n",
    "    # Filter out predictions below a threshold\n",
    "    p = bow(sentence, words, show_details=False)\n",
    "    # Adjust the shape of the input to match the model's expected input shape\n",
    "    p = np.expand_dims(p, axis=0)\n",
    "    res = model.predict(p)[0]\n",
    "    ERROR_THRESHOLD = 0.25\n",
    "    results = [[i, r] for i, r in enumerate(res) if r > ERROR_THRESHOLD]"
   ]
  },
  {
   "cell_type": "code",
   "execution_count": null,
   "id": "864ef3e5-144e-4512-a5ba-ecdec458d919",
   "metadata": {},
   "outputs": [],
   "source": [
    "    # Sort by strength of probability\n",
    "    results.sort(key=lambda x: x[1], reverse=True)\n",
    "    return_list = []\n",
    "    for r in results:\n",
    "        return_list.append({\"intent\": classes[r[0]], \"probability\": str(r[1])})\n",
    "    return return_list\n"
   ]
  },
  {
   "cell_type": "code",
   "execution_count": null,
   "id": "b8fa7410-b582-4473-9cff-4f41c17fb9fa",
   "metadata": {},
   "outputs": [],
   "source": [
    "# Function to get the response\n",
    "def get_response(ints, intents_json):\n",
    "    tag = ints[0]['intent']\n",
    "    list_of_intents = intents_json['intents']\n",
    "    for i in list_of_intents:\n",
    "        if i['tag'] == tag:\n",
    "            result = random.choice(i['responses'])\n",
    "            break\n",
    "    return result"
   ]
  },
  {
   "cell_type": "code",
   "execution_count": null,
   "id": "35ea852b-efdf-40ef-933d-f88bb7c66c43",
   "metadata": {},
   "outputs": [],
   "source": [
    "def chatbot_response(text):\n",
    "    ints = predict_class(text, model)\n",
    "    res = get_response(ints, intents)\n",
    "    return res"
   ]
  },
  {
   "cell_type": "code",
   "execution_count": null,
   "id": "c925070a-8937-4c49-9d76-f04cc494aa30",
   "metadata": {},
   "outputs": [],
   "source": [
    "# Interact with the chatbot\n",
    "print(\"Chatbot is ready to talk! Type 'quit' to stop.\")\n",
    "while True:\n",
    "    message = input(\"\")\n",
    "    if message.lower() == \"quit\":\n",
    "        break\n",
    "    response = chatbot_response(message)\n",
    "    print(response)"
   ]
  }
 ],
 "metadata": {
  "kernelspec": {
   "display_name": "Python 3 (ipykernel)",
   "language": "python",
   "name": "python3"
  },
  "language_info": {
   "codemirror_mode": {
    "name": "ipython",
    "version": 3
   },
   "file_extension": ".py",
   "mimetype": "text/x-python",
   "name": "python",
   "nbconvert_exporter": "python",
   "pygments_lexer": "ipython3",
   "version": "3.12.1"
  }
 },
 "nbformat": 4,
 "nbformat_minor": 5
}
